{
 "cells": [
  {
   "cell_type": "code",
   "execution_count": 196,
   "metadata": {},
   "outputs": [
    {
     "name": "stdout",
     "output_type": "stream",
     "text": [
      "0\n",
      "2\n",
      "4\n",
      "6\n",
      "8\n",
      "10\n",
      "12\n",
      "14\n",
      "16\n",
      "18\n",
      "20\n"
     ]
    }
   ],
   "source": [
    "x = 0\n",
    "z = 20\n",
    "\n",
    "while x <= z:\n",
    "    if x%2 == 0:\n",
    "        print(x)\n",
    "    x+=1"
   ]
  },
  {
   "cell_type": "code",
   "execution_count": 221,
   "metadata": {},
   "outputs": [
    {
     "name": "stdout",
     "output_type": "stream",
     "text": [
      "X: 0 Y: -95\n",
      "Y Axis\n"
     ]
    }
   ],
   "source": [
    "import random\n",
    "\n",
    "a = 0#random.randint(-99, 99)\n",
    "b = random.randint(-99, 99)\n",
    "\n",
    "def quadrant(x: int, y: int) -> None:\n",
    "    \"\"\"\n",
    "    Given two coordinates, X and Y, the function prints\n",
    "    in which quadrant of the Cartesian plane the point is.\n",
    "\n",
    "    Args:\n",
    "        x (int): Coordinate X\n",
    "        y (int): Coordinate Y\n",
    "    \"\"\"\n",
    "    print(\"X:\", x, \"Y:\", y)\n",
    "\n",
    "    if x>0 and y>0:\n",
    "        print(\"First Quadrant\")\n",
    "    elif x>0 and y<0:\n",
    "        print(\"Fourth Quadrant\")\n",
    "    elif x<0 and y>0:\n",
    "        print(\"Second Quadrant\")\n",
    "    elif x<0 and y<0:\n",
    "        print(\"Third Quadrant\")\n",
    "    elif x==0 and y!=0:\n",
    "        print(\"Y Axis\")\n",
    "    elif x!=0 and y==0:\n",
    "        print(\"X Axis\")\n",
    "    else: print(\"Origin\")\n",
    "\n",
    "quadrant(a, b)"
   ]
  },
  {
   "cell_type": "code",
   "execution_count": 212,
   "metadata": {},
   "outputs": [
    {
     "name": "stdout",
     "output_type": "stream",
     "text": [
      "NUM:  47252\n",
      "13 : 7 : 32\n"
     ]
    }
   ],
   "source": [
    "NUM = random.randint(0, 99999)\n",
    "\n",
    "def time(seconds: int) -> None:\n",
    "    \"\"\"\n",
    "    This function converts a number of seconds\n",
    "    into hours, minutes, and seconds.\n",
    "    \n",
    "    Args:\n",
    "        NUM (int): Number of seconds\n",
    "    \"\"\"\n",
    "    NUM_seg = seconds%60\n",
    "    NUM_min = seconds//60\n",
    "    NUM_min_2 = NUM_min%60\n",
    "    NUM_hora = NUM_min//60\n",
    "\n",
    "    print(\"NUM: \", seconds)\n",
    "    print(NUM_hora, \":\", NUM_min_2, \":\", NUM_seg)\n",
    "\n",
    "time(NUM)"
   ]
  }
 ],
 "metadata": {
  "interpreter": {
   "hash": "916dbcbb3f70747c44a77c7bcd40155683ae19c65e1c03b4aa3499c5328201f1"
  },
  "kernelspec": {
   "display_name": "Python 3.8.2 64-bit",
   "language": "python",
   "name": "python3"
  },
  "language_info": {
   "codemirror_mode": {
    "name": "ipython",
    "version": 3
   },
   "file_extension": ".py",
   "mimetype": "text/x-python",
   "name": "python",
   "nbconvert_exporter": "python",
   "pygments_lexer": "ipython3",
   "version": "3.8.2"
  },
  "orig_nbformat": 4
 },
 "nbformat": 4,
 "nbformat_minor": 2
}
